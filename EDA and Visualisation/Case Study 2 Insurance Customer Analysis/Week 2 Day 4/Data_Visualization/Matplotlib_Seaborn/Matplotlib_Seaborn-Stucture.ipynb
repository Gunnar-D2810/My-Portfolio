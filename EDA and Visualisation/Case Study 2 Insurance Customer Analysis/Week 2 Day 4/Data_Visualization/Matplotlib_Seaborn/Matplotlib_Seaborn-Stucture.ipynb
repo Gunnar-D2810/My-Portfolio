{
 "cells": [
  {
   "cell_type": "markdown",
   "metadata": {
    "id": "kvAjvxkWls2l"
   },
   "source": [
    "# Matplotlib & Seaborn"
   ]
  },
  {
   "cell_type": "markdown",
   "metadata": {
    "id": "WeBlizN7ls2n"
   },
   "source": [
    "Before getting started we import the necessary libraries we will use.\n",
    "- Pandas\n",
    "- Numpy\n",
    "- Matplotlib Pyplot\n",
    "- Seaborn"
   ]
  },
  {
   "cell_type": "code",
   "execution_count": 77,
   "metadata": {
    "executionInfo": {
     "elapsed": 1839,
     "status": "ok",
     "timestamp": 1619077002115,
     "user": {
      "displayName": "Ignacio Soteras",
      "photoUrl": "",
      "userId": "02050793736257155229"
     },
     "user_tz": -120
    },
    "id": "XGsgMLaKls2o"
   },
   "outputs": [],
   "source": [
    "# import libraries to use (pandas, numpy, matplotlib.pyplot and seaborn)\n",
    "import numpy as np\n",
    "import pandas as pd\n",
    "import matplotlib.pyplot as plt\n",
    "import seaborn as sns\n",
    "%matplotlib inline"
   ]
  },
  {
   "cell_type": "markdown",
   "metadata": {
    "id": "j5yLestSls2o"
   },
   "source": [
    "First, as an aid, you can find cheatsheets for Matplotlib and Seaborn below:\n",
    "- [Matplotlib Cheat Sheet](https://s3.amazonaws.com/assets.datacamp.com/blog_assets/Python_Matplotlib_Cheat_Sheet.pdf)\n",
    "- [Seaborn Cheat Sheet](https://s3.amazonaws.com/assets.datacamp.com/blog_assets/Python_Seaborn_Cheat_Sheet.pdf)"
   ]
  },
  {
   "cell_type": "markdown",
   "metadata": {
    "id": "Tnt4Sam0ls2o"
   },
   "source": [
    "We will do our first plots using Matplotlib. We will do only a single plot for now with several lines.\n",
    "We use NumPy to create an array of numbers from 0 to 10, that will represent the X axis."
   ]
  },
  {
   "cell_type": "code",
   "execution_count": 98,
   "metadata": {
    "executionInfo": {
     "elapsed": 790,
     "status": "ok",
     "timestamp": 1619077055716,
     "user": {
      "displayName": "Ignacio Soteras",
      "photoUrl": "",
      "userId": "02050793736257155229"
     },
     "user_tz": -120
    },
    "id": "SXhX-NSols2o"
   },
   "outputs": [],
   "source": [
    "# np.arange()\n",
    "x = np.arange(15,35,1)"
   ]
  },
  {
   "cell_type": "code",
   "execution_count": 99,
   "metadata": {},
   "outputs": [
    {
     "data": {
      "text/plain": [
       "array([15, 16, 17, 18, 19, 20, 21, 22, 23, 24, 25, 26, 27, 28, 29, 30, 31,\n",
       "       32, 33, 34])"
      ]
     },
     "execution_count": 99,
     "metadata": {},
     "output_type": "execute_result"
    }
   ],
   "source": [
    "x"
   ]
  },
  {
   "cell_type": "markdown",
   "metadata": {
    "id": "yLfqXWHnls2p"
   },
   "source": [
    "We will create arrays for the Y axis related to values of x:\n",
    "- y = x*2\n",
    "- y = x\n",
    "- y = x/2\n",
    "- y = x*3"
   ]
  },
  {
   "cell_type": "code",
   "execution_count": 100,
   "metadata": {
    "colab": {
     "base_uri": "https://localhost:8080/"
    },
    "executionInfo": {
     "elapsed": 449,
     "status": "ok",
     "timestamp": 1619077236894,
     "user": {
      "displayName": "Ignacio Soteras",
      "photoUrl": "",
      "userId": "02050793736257155229"
     },
     "user_tz": -120
    },
    "id": "PulOyT6jls2p",
    "outputId": "4c0ef636-24c3-4e7f-8a67-e40447cfdbb5"
   },
   "outputs": [
    {
     "data": {
      "text/plain": [
       "array([30, 32, 34, 36, 38, 40, 42, 44, 46, 48, 50, 52, 54, 56, 58, 60, 62,\n",
       "       64, 66, 68])"
      ]
     },
     "execution_count": 100,
     "metadata": {},
     "output_type": "execute_result"
    }
   ],
   "source": [
    "#y1 = list(map(lambda x: x*2,x))\n",
    "x*2"
   ]
  },
  {
   "cell_type": "code",
   "execution_count": 101,
   "metadata": {
    "executionInfo": {
     "elapsed": 409,
     "status": "ok",
     "timestamp": 1619077261150,
     "user": {
      "displayName": "Ignacio Soteras",
      "photoUrl": "",
      "userId": "02050793736257155229"
     },
     "user_tz": -120
    },
    "id": "8WQKk0mmhVXe"
   },
   "outputs": [],
   "source": [
    "y1 = x*2\n",
    "y2 = x\n",
    "y3 = x/2\n",
    "y4 = x*3"
   ]
  },
  {
   "cell_type": "markdown",
   "metadata": {
    "id": "4YI_w_QFls2p"
   },
   "source": [
    "Now we will create the plot. We will first create an easy plot and then we'll modify parametres."
   ]
  },
  {
   "cell_type": "code",
   "execution_count": 102,
   "metadata": {
    "colab": {
     "base_uri": "https://localhost:8080/",
     "height": 312
    },
    "executionInfo": {
     "elapsed": 616,
     "status": "ok",
     "timestamp": 1619077776456,
     "user": {
      "displayName": "Ignacio Soteras",
      "photoUrl": "",
      "userId": "02050793736257155229"
     },
     "user_tz": -120
    },
    "id": "Jfn324oYls2p",
    "outputId": "c887be0b-8f9c-43df-c47f-b8fbd7f8dbba"
   },
   "outputs": [
    {
     "data": {
      "text/plain": [
       "<matplotlib.legend.Legend at 0x7f84e6154280>"
      ]
     },
     "execution_count": 102,
     "metadata": {},
     "output_type": "execute_result"
    },
    {
     "data": {
      "image/png": "[encoded data removed]",
      "text/plain": [
       "<Figure size 432x288 with 1 Axes>"
      ]
     },
     "metadata": {},
     "output_type": "display_data"
    }
   ],
   "source": [
    "# create first figure and ax\n",
    "# use subplots(), use the option figsize=(,) to control the figure size\n",
    "fig, ax = plt.subplots()\n",
    "\n",
    "# we add a title to the figure or the ax\n",
    "# use set_title() on the axis\n",
    "ax.set_title(\"Median Family Income\")\n",
    "# we plot the different lines\n",
    "# add every plot(x, y, label=, c=) to the SAME axis with plot\n",
    "ax.plot(x,y1, label=\"y1\", c = \"green\") \n",
    "ax.plot(x,y2, label=\"y2\", c = \"g\")\n",
    "ax.plot(x,y3, label=\"y3\", c = \"b\")\n",
    "ax.plot(x,y4, label=\"y4\", c = \"y\")\n",
    "ax.set_xlabel(\"Time\")\n",
    "ax.set_ylabel(\"Median Income\")\n",
    "#ax.set_xlim(0,15) # Allows you to specify the range of value for the 'x' axis\n",
    "# we add the legend\n",
    "# add the legend to the axis with legend()\n",
    "ax.legend()\n"
   ]
  },
  {
   "cell_type": "markdown",
   "metadata": {
    "id": "7IrhtDZHls2q"
   },
   "source": [
    "We will do now a figure with 3 plots in a single row  (3 subplots). First we define two curves.\n",
    "- y = x^2\n",
    "- y = 2^x"
   ]
  },
  {
   "cell_type": "code",
   "execution_count": 19,
   "metadata": {
    "colab": {
     "base_uri": "https://localhost:8080/",
     "height": 198
    },
    "executionInfo": {
     "elapsed": 328,
     "status": "error",
     "timestamp": 1619077900334,
     "user": {
      "displayName": "Ignacio Soteras",
      "photoUrl": "",
      "userId": "02050793736257155229"
     },
     "user_tz": -120
    },
    "id": "LrFMqAUpls2q",
    "outputId": "3747a46a-acda-41df-be39-6cdcbc05854f"
   },
   "outputs": [],
   "source": [
    "y5 = x**2\n",
    "y6 = 2**x"
   ]
  },
  {
   "cell_type": "markdown",
   "metadata": {
    "id": "-XbbF8Vals2q"
   },
   "source": [
    "Now we will create the figure and all the axes, and will plot the lines:"
   ]
  },
  {
   "cell_type": "code",
   "execution_count": 89,
   "metadata": {
    "colab": {
     "base_uri": "https://localhost:8080/",
     "height": 311
    },
    "executionInfo": {
     "elapsed": 1230,
     "status": "ok",
     "timestamp": 1619078361734,
     "user": {
      "displayName": "Ignacio Soteras",
      "photoUrl": "",
      "userId": "02050793736257155229"
     },
     "user_tz": -120
    },
    "id": "q7lD1QpMls2q",
    "outputId": "ed49487f-8349-4553-b4c6-a51bbb76864f",
    "scrolled": false
   },
   "outputs": [
    {
     "data": {
      "text/plain": [
       "<matplotlib.legend.Legend at 0x7f84e40f7eb0>"
      ]
     },
     "execution_count": 89,
     "metadata": {},
     "output_type": "execute_result"
    },
    {
     "data": {
      "image/png": "[encoded data removed]",
      "text/plain": [
       "<Figure size 432x288 with 3 Axes>"
      ]
     },
     "metadata": {},
     "output_type": "display_data"
    }
   ],
   "source": [
    "# create the figure and axes\n",
    "# subplots(). Remeber that when you create several plots, the variable 'axis' becomes a list.\n",
    "fig2, ax2 = plt.subplots(3,1)\n",
    "# add an overall title for the figure\n",
    "# suptitle() on the figure # p = superior \n",
    "fig2.suptitle(\"My first grid plot\")\n",
    "# create first plot (left), adding a title\n",
    "# plot() and set_title()\n",
    "ax2[0].plot(x,y1, label = \"y1\", c = \"#30D5C8\")\n",
    "# create second plot (centre), adding a title\n",
    "# plot() and set_title()\n",
    "ax2[1].plot(x,y2, label = \"y2\", c = \"g\")\n",
    "# create third plot (right), adding a title\n",
    "# plot() and set_title()\n",
    "ax2[2].plot(x,y3, label = \"y3\", c = \"b\")\n",
    "# set a legend\n",
    "ax2[0].legend()\n",
    "ax2[1].legend()\n",
    "ax2[2].legend()"
   ]
  },
  {
   "cell_type": "code",
   "execution_count": 90,
   "metadata": {
    "colab": {
     "base_uri": "https://localhost:8080/"
    },
    "executionInfo": {
     "elapsed": 442,
     "status": "ok",
     "timestamp": 1619078087565,
     "user": {
      "displayName": "Ignacio Soteras",
      "photoUrl": "",
      "userId": "02050793736257155229"
     },
     "user_tz": -120
    },
    "id": "4Pr9XwQrktF3",
    "outputId": "ef23a782-ff5e-45a3-9016-1521ad5c9405"
   },
   "outputs": [
    {
     "data": {
      "text/plain": [
       "numpy.ndarray"
      ]
     },
     "execution_count": 90,
     "metadata": {},
     "output_type": "execute_result"
    }
   ],
   "source": [
    "type(ax2)"
   ]
  },
  {
   "cell_type": "markdown",
   "metadata": {
    "id": "BtAe_SrBls2q"
   },
   "source": [
    "## Using Matplotlib and Seaborn with Dataframes"
   ]
  },
  {
   "cell_type": "markdown",
   "metadata": {
    "id": "5yC-4y-lls2q"
   },
   "source": [
    "First we will import a dataset by executing the cells below"
   ]
  },
  {
   "cell_type": "code",
   "execution_count": 93,
   "metadata": {
    "executionInfo": {
     "elapsed": 1467,
     "status": "ok",
     "timestamp": 1619078582763,
     "user": {
      "displayName": "Ignacio Soteras",
      "photoUrl": "",
      "userId": "02050793736257155229"
     },
     "user_tz": -120
    },
    "id": "78s09-uUls2r"
   },
   "outputs": [],
   "source": [
    "titanic = sns.load_dataset('titanic')"
   ]
  },
  {
   "cell_type": "code",
   "execution_count": 95,
   "metadata": {},
   "outputs": [
    {
     "data": {
      "text/html": [
       "<div>\n",
       "<style scoped>\n",
       "    .dataframe tbody tr th:only-of-type {\n",
       "        vertical-align: middle;\n",
       "    }\n",
       "\n",
       "    .dataframe tbody tr th {\n",
       "        vertical-align: top;\n",
       "    }\n",
       "\n",
       "    .dataframe thead th {\n",
       "        text-align: right;\n",
       "    }\n",
       "</style>\n",
       "<table border=\"1\" class=\"dataframe\">\n",
       "  <thead>\n",
       "    <tr style=\"text-align: right;\">\n",
       "      <th></th>\n",
       "      <th>survived</th>\n",
       "      <th>pclass</th>\n",
       "      <th>sex</th>\n",
       "      <th>age</th>\n",
       "      <th>sibsp</th>\n",
       "      <th>parch</th>\n",
       "      <th>fare</th>\n",
       "      <th>embarked</th>\n",
       "      <th>class</th>\n",
       "      <th>who</th>\n",
       "      <th>adult_male</th>\n",
       "      <th>deck</th>\n",
       "      <th>embark_town</th>\n",
       "      <th>alive</th>\n",
       "      <th>alone</th>\n",
       "    </tr>\n",
       "  </thead>\n",
       "  <tbody>\n",
       "    <tr>\n",
       "      <th>0</th>\n",
       "      <td>0</td>\n",
       "      <td>3</td>\n",
       "      <td>male</td>\n",
       "      <td>22.0</td>\n",
       "      <td>1</td>\n",
       "      <td>0</td>\n",
       "      <td>7.2500</td>\n",
       "      <td>S</td>\n",
       "      <td>Third</td>\n",
       "      <td>man</td>\n",
       "      <td>True</td>\n",
       "      <td>NaN</td>\n",
       "      <td>Southampton</td>\n",
       "      <td>no</td>\n",
       "      <td>False</td>\n",
       "    </tr>\n",
       "    <tr>\n",
       "      <th>1</th>\n",
       "      <td>1</td>\n",
       "      <td>1</td>\n",
       "      <td>female</td>\n",
       "      <td>38.0</td>\n",
       "      <td>1</td>\n",
       "      <td>0</td>\n",
       "      <td>71.2833</td>\n",
       "      <td>C</td>\n",
       "      <td>First</td>\n",
       "      <td>woman</td>\n",
       "      <td>False</td>\n",
       "      <td>C</td>\n",
       "      <td>Cherbourg</td>\n",
       "      <td>yes</td>\n",
       "      <td>False</td>\n",
       "    </tr>\n",
       "    <tr>\n",
       "      <th>2</th>\n",
       "      <td>1</td>\n",
       "      <td>3</td>\n",
       "      <td>female</td>\n",
       "      <td>26.0</td>\n",
       "      <td>0</td>\n",
       "      <td>0</td>\n",
       "      <td>7.9250</td>\n",
       "      <td>S</td>\n",
       "      <td>Third</td>\n",
       "      <td>woman</td>\n",
       "      <td>False</td>\n",
       "      <td>NaN</td>\n",
       "      <td>Southampton</td>\n",
       "      <td>yes</td>\n",
       "      <td>True</td>\n",
       "    </tr>\n",
       "    <tr>\n",
       "      <th>3</th>\n",
       "      <td>1</td>\n",
       "      <td>1</td>\n",
       "      <td>female</td>\n",
       "      <td>35.0</td>\n",
       "      <td>1</td>\n",
       "      <td>0</td>\n",
       "      <td>53.1000</td>\n",
       "      <td>S</td>\n",
       "      <td>First</td>\n",
       "      <td>woman</td>\n",
       "      <td>False</td>\n",
       "      <td>C</td>\n",
       "      <td>Southampton</td>\n",
       "      <td>yes</td>\n",
       "      <td>False</td>\n",
       "    </tr>\n",
       "    <tr>\n",
       "      <th>4</th>\n",
       "      <td>0</td>\n",
       "      <td>3</td>\n",
       "      <td>male</td>\n",
       "      <td>35.0</td>\n",
       "      <td>0</td>\n",
       "      <td>0</td>\n",
       "      <td>8.0500</td>\n",
       "      <td>S</td>\n",
       "      <td>Third</td>\n",
       "      <td>man</td>\n",
       "      <td>True</td>\n",
       "      <td>NaN</td>\n",
       "      <td>Southampton</td>\n",
       "      <td>no</td>\n",
       "      <td>True</td>\n",
       "    </tr>\n",
       "    <tr>\n",
       "      <th>5</th>\n",
       "      <td>0</td>\n",
       "      <td>3</td>\n",
       "      <td>male</td>\n",
       "      <td>NaN</td>\n",
       "      <td>0</td>\n",
       "      <td>0</td>\n",
       "      <td>8.4583</td>\n",
       "      <td>Q</td>\n",
       "      <td>Third</td>\n",
       "      <td>man</td>\n",
       "      <td>True</td>\n",
       "      <td>NaN</td>\n",
       "      <td>Queenstown</td>\n",
       "      <td>no</td>\n",
       "      <td>True</td>\n",
       "    </tr>\n",
       "    <tr>\n",
       "      <th>6</th>\n",
       "      <td>0</td>\n",
       "      <td>1</td>\n",
       "      <td>male</td>\n",
       "      <td>54.0</td>\n",
       "      <td>0</td>\n",
       "      <td>0</td>\n",
       "      <td>51.8625</td>\n",
       "      <td>S</td>\n",
       "      <td>First</td>\n",
       "      <td>man</td>\n",
       "      <td>True</td>\n",
       "      <td>E</td>\n",
       "      <td>Southampton</td>\n",
       "      <td>no</td>\n",
       "      <td>True</td>\n",
       "    </tr>\n",
       "    <tr>\n",
       "      <th>7</th>\n",
       "      <td>0</td>\n",
       "      <td>3</td>\n",
       "      <td>male</td>\n",
       "      <td>2.0</td>\n",
       "      <td>3</td>\n",
       "      <td>1</td>\n",
       "      <td>21.0750</td>\n",
       "      <td>S</td>\n",
       "      <td>Third</td>\n",
       "      <td>child</td>\n",
       "      <td>False</td>\n",
       "      <td>NaN</td>\n",
       "      <td>Southampton</td>\n",
       "      <td>no</td>\n",
       "      <td>False</td>\n",
       "    </tr>\n",
       "    <tr>\n",
       "      <th>8</th>\n",
       "      <td>1</td>\n",
       "      <td>3</td>\n",
       "      <td>female</td>\n",
       "      <td>27.0</td>\n",
       "      <td>0</td>\n",
       "      <td>2</td>\n",
       "      <td>11.1333</td>\n",
       "      <td>S</td>\n",
       "      <td>Third</td>\n",
       "      <td>woman</td>\n",
       "      <td>False</td>\n",
       "      <td>NaN</td>\n",
       "      <td>Southampton</td>\n",
       "      <td>yes</td>\n",
       "      <td>False</td>\n",
       "    </tr>\n",
       "    <tr>\n",
       "      <th>9</th>\n",
       "      <td>1</td>\n",
       "      <td>2</td>\n",
       "      <td>female</td>\n",
       "      <td>14.0</td>\n",
       "      <td>1</td>\n",
       "      <td>0</td>\n",
       "      <td>30.0708</td>\n",
       "      <td>C</td>\n",
       "      <td>Second</td>\n",
       "      <td>child</td>\n",
       "      <td>False</td>\n",
       "      <td>NaN</td>\n",
       "      <td>Cherbourg</td>\n",
       "      <td>yes</td>\n",
       "      <td>False</td>\n",
       "    </tr>\n",
       "  </tbody>\n",
       "</table>\n",
       "</div>"
      ],
      "text/plain": [
       "   survived  pclass     sex   age  sibsp  parch     fare embarked   class  \\\n",
       "0         0       3    male  22.0      1      0   7.2500        S   Third   \n",
       "1         1       1  female  38.0      1      0  71.2833        C   First   \n",
       "2         1       3  female  26.0      0      0   7.9250        S   Third   \n",
       "3         1       1  female  35.0      1      0  53.1000        S   First   \n",
       "4         0       3    male  35.0      0      0   8.0500        S   Third   \n",
       "5         0       3    male   NaN      0      0   8.4583        Q   Third   \n",
       "6         0       1    male  54.0      0      0  51.8625        S   First   \n",
       "7         0       3    male   2.0      3      1  21.0750        S   Third   \n",
       "8         1       3  female  27.0      0      2  11.1333        S   Third   \n",
       "9         1       2  female  14.0      1      0  30.0708        C  Second   \n",
       "\n",
       "     who  adult_male deck  embark_town alive  alone  \n",
       "0    man        True  NaN  Southampton    no  False  \n",
       "1  woman       False    C    Cherbourg   yes  False  \n",
       "2  woman       False  NaN  Southampton   yes   True  \n",
       "3  woman       False    C  Southampton   yes  False  \n",
       "4    man        True  NaN  Southampton    no   True  \n",
       "5    man        True  NaN   Queenstown    no   True  \n",
       "6    man        True    E  Southampton    no   True  \n",
       "7  child       False  NaN  Southampton    no  False  \n",
       "8  woman       False  NaN  Southampton   yes  False  \n",
       "9  child       False  NaN    Cherbourg   yes  False  "
      ]
     },
     "execution_count": 95,
     "metadata": {},
     "output_type": "execute_result"
    }
   ],
   "source": [
    "titanic.head(10)"
   ]
  },
  {
   "cell_type": "markdown",
   "metadata": {
    "id": "vKofkxc9ls2r"
   },
   "source": [
    "Count how many passengers survived and how many didn't. Use only one method. Store the result in a variable."
   ]
  },
  {
   "cell_type": "code",
   "execution_count": 96,
   "metadata": {
    "executionInfo": {
     "elapsed": 535,
     "status": "ok",
     "timestamp": 1619078818699,
     "user": {
      "displayName": "Ignacio Soteras",
      "photoUrl": "",
      "userId": "02050793736257155229"
     },
     "user_tz": -120
    },
    "id": "jGmUPdR5ls2r"
   },
   "outputs": [],
   "source": [
    "alive = titanic['alive'].value_counts()"
   ]
  },
  {
   "cell_type": "code",
   "execution_count": 97,
   "metadata": {
    "colab": {
     "base_uri": "https://localhost:8080/"
    },
    "executionInfo": {
     "elapsed": 434,
     "status": "ok",
     "timestamp": 1619078872940,
     "user": {
      "displayName": "Ignacio Soteras",
      "photoUrl": "",
      "userId": "02050793736257155229"
     },
     "user_tz": -120
    },
    "id": "OPFcR9f-ls2r",
    "outputId": "47111e3e-5cb4-4b10-cc45-a8d55a6e6b45"
   },
   "outputs": [
    {
     "data": {
      "text/plain": [
       "no     549\n",
       "yes    342\n",
       "Name: alive, dtype: int64"
      ]
     },
     "execution_count": 97,
     "metadata": {},
     "output_type": "execute_result"
    }
   ],
   "source": [
    "alive"
   ]
  },
  {
   "cell_type": "markdown",
   "metadata": {
    "id": "1pMSen0yls2r"
   },
   "source": [
    "We will create now a bar chart. The procedure is the same as the first plot we created."
   ]
  },
  {
   "cell_type": "code",
   "execution_count": 103,
   "metadata": {
    "colab": {
     "base_uri": "https://localhost:8080/",
     "height": 298
    },
    "executionInfo": {
     "elapsed": 451,
     "status": "ok",
     "timestamp": 1619078950859,
     "user": {
      "displayName": "Ignacio Soteras",
      "photoUrl": "",
      "userId": "02050793736257155229"
     },
     "user_tz": -120
    },
    "id": "JcIe5vf6ls2r",
    "outputId": "dc9e54e6-8ce4-43a9-cdd5-1f1b7681f2ea"
   },
   "outputs": [
    {
     "data": {
      "text/plain": [
       "<AxesSubplot:title={'center':'Bar plot of survived'}, ylabel='alive'>"
      ]
     },
     "execution_count": 103,
     "metadata": {},
     "output_type": "execute_result"
    },
    {
     "data": {
      "image/png": "[encoded data removed]",
      "text/plain": [
       "<Figure size 432x288 with 1 Axes>"
      ]
     },
     "metadata": {},
     "output_type": "display_data"
    }
   ],
   "source": [
    "# create figure and axes\n",
    "# subplots()\n",
    "fig3, ax3 = plt.subplots()\n",
    "# set title\n",
    "# set_title()\n",
    "ax3.set_title(\"Bar plot of survived\")\n",
    "# plot the bar chart\n",
    "# bar()\n",
    "\n",
    "sns.barplot(x=alive.index ,y =alive)"
   ]
  },
  {
   "cell_type": "markdown",
   "metadata": {
    "id": "CwWbulePls2s"
   },
   "source": [
    "Now let's create a figure with two bar charts (axes), one above the other: \n",
    "- One chart displaying the number of men, women, and children.\n",
    "- Another displaying the number of passengers by *class* (first, second and third class).\n",
    "\n",
    "Alert: do not name a variable as *class* because this name is already being used by Python (like *list*, *dict*, etc.)"
   ]
  },
  {
   "cell_type": "code",
   "execution_count": 40,
   "metadata": {
    "colab": {
     "base_uri": "https://localhost:8080/"
    },
    "executionInfo": {
     "elapsed": 436,
     "status": "ok",
     "timestamp": 1619079231199,
     "user": {
      "displayName": "Ignacio Soteras",
      "photoUrl": "",
      "userId": "02050793736257155229"
     },
     "user_tz": -120
    },
    "id": "ZRtfwmCdls2s",
    "outputId": "0c6b8942-7073-47e0-acf7-90cc54ba0c53"
   },
   "outputs": [
    {
     "data": {
      "text/plain": [
       "man      537\n",
       "woman    271\n",
       "child     83\n",
       "Name: who, dtype: int64"
      ]
     },
     "execution_count": 40,
     "metadata": {},
     "output_type": "execute_result"
    }
   ],
   "source": [
    "who = titanic['who'].value_counts()\n",
    "who"
   ]
  },
  {
   "cell_type": "code",
   "execution_count": 41,
   "metadata": {
    "executionInfo": {
     "elapsed": 593,
     "status": "ok",
     "timestamp": 1619079098450,
     "user": {
      "displayName": "Ignacio Soteras",
      "photoUrl": "",
      "userId": "02050793736257155229"
     },
     "user_tz": -120
    },
    "id": "y0pr5O_als2s"
   },
   "outputs": [],
   "source": [
    "p_class = titanic['class'].value_counts()"
   ]
  },
  {
   "cell_type": "code",
   "execution_count": 107,
   "metadata": {
    "colab": {
     "base_uri": "https://localhost:8080/",
     "height": 282
    },
    "executionInfo": {
     "elapsed": 579,
     "status": "ok",
     "timestamp": 1619079684846,
     "user": {
      "displayName": "Ignacio Soteras",
      "photoUrl": "",
      "userId": "02050793736257155229"
     },
     "user_tz": -120
    },
    "id": "aF5FjZ8ils2s",
    "outputId": "ea9b8781-be21-4ab6-9062-93f1355decaa",
    "scrolled": false
   },
   "outputs": [
    {
     "data": {
      "text/plain": [
       "<AxesSubplot:ylabel='who'>"
      ]
     },
     "execution_count": 107,
     "metadata": {},
     "output_type": "execute_result"
    },
    {
     "data": {
      "image/png": "[encoded data removed]",
      "text/plain": [
       "<Figure size 432x288 with 2 Axes>"
      ]
     },
     "metadata": {},
     "output_type": "display_data"
    }
   ],
   "source": [
    "# create figure and axes\n",
    "fig4, ax4 = plt.subplots(2,1)\n",
    "\n",
    "# plot the bar chart\n",
    "# With matplotlib\n",
    "ax4[0].bar(x=who.index, height = who, color = ['r','g',\"b\"])\n",
    "#ax4[1].bar(x=p_class.index, height = p_class)\n",
    "\n",
    "# With seaborn\n",
    "sns.barplot(x = who.index, y = who)"
   ]
  },
  {
   "cell_type": "markdown",
   "metadata": {
    "id": "0uZ7klOWls2s"
   },
   "source": [
    "### Seaborn (more complex graphs)"
   ]
  },
  {
   "cell_type": "markdown",
   "metadata": {
    "id": "u5iTruI7ls2s"
   },
   "source": [
    "We want to know if the class of the passenger's ticket affected their chances of survival. We will introduce Seaborn now as it allow us to create more complex graphs relatively easy.\n",
    "\n",
    "First, let's find and create a dataframe with the survival ratings by *class*.\n",
    "Hint: use groupby() \n",
    ", count(), reset_index()"
   ]
  },
  {
   "cell_type": "code",
   "execution_count": 45,
   "metadata": {
    "colab": {
     "base_uri": "https://localhost:8080/",
     "height": 235
    },
    "executionInfo": {
     "elapsed": 412,
     "status": "ok",
     "timestamp": 1619079752117,
     "user": {
      "displayName": "Ignacio Soteras",
      "photoUrl": "",
      "userId": "02050793736257155229"
     },
     "user_tz": -120
    },
    "id": "4nz6YRtVls2s",
    "outputId": "97f5f7d8-8db8-4e27-ef98-a248147c0816"
   },
   "outputs": [
    {
     "data": {
      "text/html": [
       "<div>\n",
       "<style scoped>\n",
       "    .dataframe tbody tr th:only-of-type {\n",
       "        vertical-align: middle;\n",
       "    }\n",
       "\n",
       "    .dataframe tbody tr th {\n",
       "        vertical-align: top;\n",
       "    }\n",
       "\n",
       "    .dataframe thead th {\n",
       "        text-align: right;\n",
       "    }\n",
       "</style>\n",
       "<table border=\"1\" class=\"dataframe\">\n",
       "  <thead>\n",
       "    <tr style=\"text-align: right;\">\n",
       "      <th></th>\n",
       "      <th>class</th>\n",
       "      <th>alive</th>\n",
       "      <th>survived</th>\n",
       "    </tr>\n",
       "  </thead>\n",
       "  <tbody>\n",
       "    <tr>\n",
       "      <th>0</th>\n",
       "      <td>First</td>\n",
       "      <td>no</td>\n",
       "      <td>80</td>\n",
       "    </tr>\n",
       "    <tr>\n",
       "      <th>1</th>\n",
       "      <td>First</td>\n",
       "      <td>yes</td>\n",
       "      <td>136</td>\n",
       "    </tr>\n",
       "    <tr>\n",
       "      <th>2</th>\n",
       "      <td>Second</td>\n",
       "      <td>no</td>\n",
       "      <td>97</td>\n",
       "    </tr>\n",
       "    <tr>\n",
       "      <th>3</th>\n",
       "      <td>Second</td>\n",
       "      <td>yes</td>\n",
       "      <td>87</td>\n",
       "    </tr>\n",
       "    <tr>\n",
       "      <th>4</th>\n",
       "      <td>Third</td>\n",
       "      <td>no</td>\n",
       "      <td>372</td>\n",
       "    </tr>\n",
       "    <tr>\n",
       "      <th>5</th>\n",
       "      <td>Third</td>\n",
       "      <td>yes</td>\n",
       "      <td>119</td>\n",
       "    </tr>\n",
       "  </tbody>\n",
       "</table>\n",
       "</div>"
      ],
      "text/plain": [
       "    class alive  survived\n",
       "0   First    no        80\n",
       "1   First   yes       136\n",
       "2  Second    no        97\n",
       "3  Second   yes        87\n",
       "4   Third    no       372\n",
       "5   Third   yes       119"
      ]
     },
     "execution_count": 45,
     "metadata": {},
     "output_type": "execute_result"
    }
   ],
   "source": [
    "class_survival = titanic.groupby(['class','alive'])['survived'].count().reset_index()\n",
    "class_survival"
   ]
  },
  {
   "cell_type": "markdown",
   "metadata": {
    "id": "083RhdfGls2t"
   },
   "source": [
    "We now will create the bar chart with Seaborn. First we set the color palette, which means that a preset palette of colors will be used in the upcoming graphs. You can find information of Seaborn palettes in the [Official Seaborn documentation](https://seaborn.pydata.org/tutorial/color_palettes.html) or in [articles](https://medium.com/@morganjonesartist/color-guide-to-seaborn-palettes-da849406d44f)."
   ]
  },
  {
   "cell_type": "code",
   "execution_count": 109,
   "metadata": {
    "executionInfo": {
     "elapsed": 487,
     "status": "ok",
     "timestamp": 1619079876961,
     "user": {
      "displayName": "Ignacio Soteras",
      "photoUrl": "",
      "userId": "02050793736257155229"
     },
     "user_tz": -120
    },
    "id": "VUzd9iclls2t"
   },
   "outputs": [],
   "source": [
    "sns.set_palette('RdYlGn')\n",
    "palette_alive = {\"yes\": \"C5\", \"no\": \"C0\"}"
   ]
  },
  {
   "cell_type": "markdown",
   "metadata": {
    "id": "KGr0YJP_ls2t"
   },
   "source": [
    "And now we create the bar chart. In Seaborn we can use now the additional parameter 'hue' to create plots."
   ]
  },
  {
   "cell_type": "code",
   "execution_count": 47,
   "metadata": {
    "colab": {
     "base_uri": "https://localhost:8080/",
     "height": 312
    },
    "executionInfo": {
     "elapsed": 557,
     "status": "ok",
     "timestamp": 1619080037629,
     "user": {
      "displayName": "Ignacio Soteras",
      "photoUrl": "",
      "userId": "02050793736257155229"
     },
     "user_tz": -120
    },
    "id": "5QedUsLYls2t",
    "outputId": "ea5b17bc-2c48-41f3-b23a-dd20f9f4d781"
   },
   "outputs": [
    {
     "data": {
      "text/plain": [
       "<AxesSubplot:title={'center':'Survival plot'}, xlabel='class', ylabel='survived'>"
      ]
     },
     "execution_count": 47,
     "metadata": {},
     "output_type": "execute_result"
    },
    {
     "data": {
      "image/png": "[encoded data removed]",
      "text/plain": [
       "<Figure size 432x288 with 1 Axes>"
      ]
     },
     "metadata": {
      "needs_background": "light"
     },
     "output_type": "display_data"
    }
   ],
   "source": [
    "# Start with the usual matplotlib subplots() function\n",
    "fig5, ax5 = plt.subplots()\n",
    "\n",
    "# set the title using: set_title()\n",
    "ax5.set_title(\"Survival plot\")\n",
    "\n",
    "# uses seaborn barplot(x, y, hue = , palette = ) function\n",
    "sns.barplot(x = class_survival['class'], y = class_survival['survived'], hue = class_survival['alive'], palette= palette_alive)"
   ]
  },
  {
   "cell_type": "markdown",
   "metadata": {
    "id": "PxhX9EDXls2u"
   },
   "source": [
    "As a final challenge, we will create another FacetGrid with catplot but instead of bars we will plot **boxes** (a box plot is very useful if you want to see at a first glance the relevant statistics of a distribution). \n",
    "\n",
    "We want to plot the following:\n",
    "\n",
    "- In each ax we will plot the distribution of *ages* according to their *sex* (two boxplots per subplot).\n",
    "- Each FacetGrid column will define a filter according to the passengers' *class*. (The FacetGrid will then have three subplots).\n",
    "\n",
    "*Hint*: You can use the *titanic* DataFrame without any further modification.\n",
    "\n",
    "**Bonus track**: If you feel confortable you can also add a *row* conditition that will filter the plots according to the *alone* column (whether the passenger embarked with any relatives). In this case the FacetGrid will become a 2x3 matrix of subplots."
   ]
  },
  {
   "cell_type": "code",
   "execution_count": 113,
   "metadata": {},
   "outputs": [
    {
     "data": {
      "text/html": [
       "<div>\n",
       "<style scoped>\n",
       "    .dataframe tbody tr th:only-of-type {\n",
       "        vertical-align: middle;\n",
       "    }\n",
       "\n",
       "    .dataframe tbody tr th {\n",
       "        vertical-align: top;\n",
       "    }\n",
       "\n",
       "    .dataframe thead th {\n",
       "        text-align: right;\n",
       "    }\n",
       "</style>\n",
       "<table border=\"1\" class=\"dataframe\">\n",
       "  <thead>\n",
       "    <tr style=\"text-align: right;\">\n",
       "      <th></th>\n",
       "      <th>class</th>\n",
       "      <th>age</th>\n",
       "      <th>count</th>\n",
       "    </tr>\n",
       "  </thead>\n",
       "  <tbody>\n",
       "    <tr>\n",
       "      <th>0</th>\n",
       "      <td>First</td>\n",
       "      <td>0.42</td>\n",
       "      <td>0</td>\n",
       "    </tr>\n",
       "    <tr>\n",
       "      <th>1</th>\n",
       "      <td>First</td>\n",
       "      <td>0.67</td>\n",
       "      <td>0</td>\n",
       "    </tr>\n",
       "    <tr>\n",
       "      <th>2</th>\n",
       "      <td>First</td>\n",
       "      <td>0.75</td>\n",
       "      <td>0</td>\n",
       "    </tr>\n",
       "    <tr>\n",
       "      <th>3</th>\n",
       "      <td>First</td>\n",
       "      <td>0.83</td>\n",
       "      <td>0</td>\n",
       "    </tr>\n",
       "    <tr>\n",
       "      <th>4</th>\n",
       "      <td>First</td>\n",
       "      <td>0.92</td>\n",
       "      <td>1</td>\n",
       "    </tr>\n",
       "    <tr>\n",
       "      <th>...</th>\n",
       "      <td>...</td>\n",
       "      <td>...</td>\n",
       "      <td>...</td>\n",
       "    </tr>\n",
       "    <tr>\n",
       "      <th>95</th>\n",
       "      <td>Second</td>\n",
       "      <td>3.00</td>\n",
       "      <td>3</td>\n",
       "    </tr>\n",
       "    <tr>\n",
       "      <th>96</th>\n",
       "      <td>Second</td>\n",
       "      <td>4.00</td>\n",
       "      <td>2</td>\n",
       "    </tr>\n",
       "    <tr>\n",
       "      <th>97</th>\n",
       "      <td>Second</td>\n",
       "      <td>5.00</td>\n",
       "      <td>1</td>\n",
       "    </tr>\n",
       "    <tr>\n",
       "      <th>98</th>\n",
       "      <td>Second</td>\n",
       "      <td>6.00</td>\n",
       "      <td>1</td>\n",
       "    </tr>\n",
       "    <tr>\n",
       "      <th>99</th>\n",
       "      <td>Second</td>\n",
       "      <td>7.00</td>\n",
       "      <td>1</td>\n",
       "    </tr>\n",
       "  </tbody>\n",
       "</table>\n",
       "<p>100 rows × 3 columns</p>\n",
       "</div>"
      ],
      "text/plain": [
       "     class   age  count\n",
       "0    First  0.42      0\n",
       "1    First  0.67      0\n",
       "2    First  0.75      0\n",
       "3    First  0.83      0\n",
       "4    First  0.92      1\n",
       "..     ...   ...    ...\n",
       "95  Second  3.00      3\n",
       "96  Second  4.00      2\n",
       "97  Second  5.00      1\n",
       "98  Second  6.00      1\n",
       "99  Second  7.00      1\n",
       "\n",
       "[100 rows x 3 columns]"
      ]
     },
     "execution_count": 113,
     "metadata": {},
     "output_type": "execute_result"
    }
   ],
   "source": [
    "grouped.iloc[0:100,]"
   ]
  },
  {
   "cell_type": "code",
   "execution_count": 121,
   "metadata": {
    "colab": {
     "base_uri": "https://localhost:8080/",
     "height": 400
    },
    "executionInfo": {
     "elapsed": 1151,
     "status": "ok",
     "timestamp": 1619081155027,
     "user": {
      "displayName": "Ignacio Soteras",
      "photoUrl": "",
      "userId": "02050793736257155229"
     },
     "user_tz": -120
    },
    "id": "gEALxy90ls2u",
    "outputId": "159e7de1-1508-4aa9-8cc5-fb09655bc75e",
    "scrolled": false
   },
   "outputs": [
    {
     "data": {
      "text/plain": [
       "<seaborn.axisgrid.FacetGrid at 0x7f84c758bb20>"
      ]
     },
     "execution_count": 121,
     "metadata": {},
     "output_type": "execute_result"
    },
    {
     "data": {
      "image/png": "[encoded data removed]",
      "text/plain": [
       "<Figure size 1080x360 with 3 Axes>"
      ]
     },
     "metadata": {},
     "output_type": "display_data"
    }
   ],
   "source": [
    "# sns.catplot(). plot sex on x axis, Age on y axis, col = 'class', kind = \"box\", margin_titles = True. sns.catplot() returns a figure\n",
    "# use set_xticklabels(['Male', 'Female'])\n",
    "# set_xlabels() to \"\"\n",
    "# set_ylabels() to \"Age\"\n",
    "grouped = titanic.groupby(['class','age'])['alive'].count().rename('count').reset_index()\n",
    "grouped\n",
    "sns.catplot(x='sex', y='age', col = 'class', data = titanic, kind= \"box\")"
   ]
  },
  {
   "cell_type": "code",
   "execution_count": 131,
   "metadata": {},
   "outputs": [
    {
     "data": {
      "text/plain": [
       "<AxesSubplot:>"
      ]
     },
     "execution_count": 131,
     "metadata": {},
     "output_type": "execute_result"
    },
    {
     "data": {
      "image/png": "[encoded data removed]",
      "text/plain": [
       "<Figure size 432x288 with 1 Axes>"
      ]
     },
     "metadata": {},
     "output_type": "display_data"
    }
   ],
   "source": [
    "titanic.age.hist()"
   ]
  },
  {
   "cell_type": "code",
   "execution_count": 129,
   "metadata": {},
   "outputs": [
    {
     "data": {
      "text/plain": [
       "5"
      ]
     },
     "execution_count": 129,
     "metadata": {},
     "output_type": "execute_result"
    }
   ],
   "source": [
    "titanic[(titanic[\"sex\"]==\"male\") & (titanic[\"class\"]==\"Second\") & (titanic[\"age\"]>58) ].age.count()"
   ]
  },
  {
   "cell_type": "code",
   "execution_count": 68,
   "metadata": {},
   "outputs": [
    {
     "data": {
      "image/png": "[encoded data removed]",
      "text/plain": [
       "<Figure size 720x360 with 1 Axes>"
      ]
     },
     "metadata": {},
     "output_type": "display_data"
    }
   ],
   "source": [
    "tips = sns.load_dataset(\"tips\")\n",
    "sns.set_style(\"whitegrid\")\n",
    "g = sns.lmplot(x=\"tip\", y=\"total_bill\",data=tips, aspect=2)\n",
    "g = (g.set_axis_labels(\"Tip\",\"Total bill(USD)\").set(xlim=(0,10),ylim=(0,100)))\n",
    "plt.title(\"title\")\n",
    "plt.show(g)"
   ]
  }
 ],
 "metadata": {
  "colab": {
   "name": "Codealong_Matplotlib_Seaborn-Stucture.ipynb",
   "provenance": []
  },
  "kernelspec": {
   "display_name": "Python 3",
   "language": "python",
   "name": "python3"
  },
  "language_info": {
   "codemirror_mode": {
    "name": "ipython",
    "version": 3
   },
   "file_extension": ".py",
   "mimetype": "text/x-python",
   "name": "python",
   "nbconvert_exporter": "python",
   "pygments_lexer": "ipython3",
   "version": "3.9.6"
  }
 },
 "nbformat": 4,
 "nbformat_minor": 1
}
